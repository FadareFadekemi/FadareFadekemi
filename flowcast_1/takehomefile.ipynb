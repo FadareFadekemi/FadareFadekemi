{
  "cells": [
    {
      "cell_type": "markdown",
      "id": "ef31c1af",
      "metadata": {
        "id": "ef31c1af"
      },
      "source": [
        "![Flowcast](https://raw.githubusercontent.com/interviewquery/takehomes/flowcast_1/flowcast_1/logo.png)\n",
        "Please follow the instructions below to complete the data science\n",
        "challenge. We expect it to take no longer than 1-2 hours. However, for\n",
        "your convenience, we allow 24 hours from the time of receipt to submit\n",
        "your code.\n",
        "\n",
        "# Data Science Interview Challenge\n",
        "\n",
        "The goal of this challenge is to produce a sample of your machine\n",
        "learning skills as well as your ability to write clean, readable, and\n",
        "well-documented code.\n",
        "\n",
        "# Problem Statement\n",
        "\n",
        "You will use credit card transactions data to detect fraud. Fraud can\n",
        "take many forms, whether it is someone stealing a single credit card, to\n",
        "large batches of stolen credit card numbers being used on the web, or\n",
        "even a mass compromise of credit card numbers stolen from a merchant via\n",
        "tools like credit card skimming devices. Note that this dataset loosely\n",
        "resembles real transactional data, but the entities and relations within\n",
        "are purely fictional. Please complete the following tasks:\n",
        "\n",
        "1.  Load the data in `transactions.json`\n",
        "\n",
        "2.  Briefly describe the data structure, provide summary statistics, and\n",
        "    at least one plot.\n",
        "\n",
        "\n",
        "3.  Build a model to determine whether a given transaction is fraudulent\n",
        "    or not. Each of the transactions in the dataset has a field called\n",
        "    isFraud.\n",
        "\n",
        "\n",
        "    1.  Hint: This task should involve some feature engineering although\n",
        "        it can be limited.\n",
        "\n",
        "\n",
        "4.  Provide an evaluation of model performance.\n",
        "\n",
        "\n",
        "5.  Document your solution. Hint: Documentation should include:\n",
        "\n",
        "\n",
        "    1.  Assumptions about the data\n",
        "\n",
        "\n",
        "    2.  Explanations of methods i.e. algorithm used and why, what\n",
        "        features were important, and any alternative methods considered\n",
        "\n",
        "\n",
        "    3.  Conclusions about your solution\n",
        "\n",
        "\n",
        "    4.  Further steps you would take if given more time\n",
        "\n",
        "\n",
        "# Important Guidelines\n",
        "\n",
        "Although your submission will be in a Python Notebook, we wish for you to use any\n",
        "tools you are comfortable with.\n",
        "\n",
        "To provide a fair evaluation, we ask that you:\n",
        "\n",
        "-   Refrain from receiving help from others on this challenge.\n",
        "\n",
        "\n",
        "-   Stick to the time limit of 1-2 hours. We will evaluate your\n",
        "    submission knowing that you had limited time and expect a simple yet\n",
        "    complete and working solution.\n",
        "\n"
      ]
    },
    {
      "cell_type": "code",
      "execution_count": 1,
      "id": "b1cf3a13",
      "metadata": {
        "colab": {
          "base_uri": "https://localhost:8080/"
        },
        "id": "b1cf3a13",
        "outputId": "cf6ee92a-6851-47b7-bf12-2bbb1ac40eb3"
      },
      "outputs": [
        {
          "output_type": "stream",
          "name": "stdout",
          "text": [
            "Cloning into 'takehomes'...\n",
            "remote: Enumerating objects: 1968, done.\u001b[K\n",
            "remote: Counting objects: 100% (1968/1968), done.\u001b[K\n",
            "remote: Compressing objects: 100% (1222/1222), done.\u001b[K\n",
            "remote: Total 1968 (delta 755), reused 1933 (delta 729), pack-reused 0 (from 0)\u001b[K\n",
            "Receiving objects: 100% (1968/1968), 299.41 MiB | 15.58 MiB/s, done.\n",
            "Resolving deltas: 100% (755/755), done.\n",
            "/content/takehomes/flowcast_1\n",
            "logo.png  metadata.json  takehomefile.ipynb  transactions.json\n"
          ]
        }
      ],
      "source": [
        "!git clone --branch flowcast_1 https://github.com/interviewquery/takehomes.git\n",
        "%cd takehomes/flowcast_1\n",
        "!ls"
      ]
    },
    {
      "cell_type": "code",
      "execution_count": 5,
      "id": "6961d971",
      "metadata": {
        "id": "6961d971"
      },
      "outputs": [],
      "source": [
        "# import the neccessary modules\n",
        "import pandas as pd\n",
        "import matplotlib.pyplot as plt\n",
        "import numpy as np\n",
        "import seaborn as sns\n",
        "import json"
      ]
    },
    {
      "cell_type": "code",
      "source": [
        "# import the data\n",
        "data = []\n",
        "with open(\"transactions.json\") as file:\n",
        "    for line in file:\n",
        "        data.append(json.loads(line))"
      ],
      "metadata": {
        "id": "ktpOAZttK4xD"
      },
      "id": "ktpOAZttK4xD",
      "execution_count": 4,
      "outputs": []
    },
    {
      "cell_type": "code",
      "source": [
        "# turn the list into a dataframe\n",
        "df = pd.DataFrame(data)\n",
        "print(df.info())"
      ],
      "metadata": {
        "colab": {
          "base_uri": "https://localhost:8080/"
        },
        "id": "M0qFy2oyNHE1",
        "outputId": "fd123274-11a2-4f35-fd07-7b1d328ed74c"
      },
      "id": "M0qFy2oyNHE1",
      "execution_count": 8,
      "outputs": [
        {
          "output_type": "stream",
          "name": "stdout",
          "text": [
            "<class 'pandas.core.frame.DataFrame'>\n",
            "RangeIndex: 100000 entries, 0 to 99999\n",
            "Data columns (total 29 columns):\n",
            " #   Column                    Non-Null Count   Dtype  \n",
            "---  ------                    --------------   -----  \n",
            " 0   accountNumber             100000 non-null  object \n",
            " 1   customerId                100000 non-null  object \n",
            " 2   creditLimit               100000 non-null  float64\n",
            " 3   availableMoney            100000 non-null  float64\n",
            " 4   currentBalance            100000 non-null  float64\n",
            " 5   transactionDateTime       100000 non-null  object \n",
            " 6   transactionAmount         100000 non-null  float64\n",
            " 7   merchantName              100000 non-null  object \n",
            " 8   acqCountry                100000 non-null  object \n",
            " 9   merchantCountryCode       100000 non-null  object \n",
            " 10  posEntryMode              100000 non-null  object \n",
            " 11  posConditionCode          100000 non-null  object \n",
            " 12  merchantCategoryCode      100000 non-null  object \n",
            " 13  cardPresent               100000 non-null  bool   \n",
            " 14  currentExpDate            100000 non-null  object \n",
            " 15  accountOpenDate           100000 non-null  object \n",
            " 16  dateOfLastAddressChange   100000 non-null  object \n",
            " 17  cardCVV                   100000 non-null  object \n",
            " 18  enteredCVV                100000 non-null  object \n",
            " 19  cardLast4Digits           100000 non-null  object \n",
            " 20  transactionType           100000 non-null  object \n",
            " 21  echoBuffer                100000 non-null  object \n",
            " 22  merchantCity              100000 non-null  object \n",
            " 23  merchantState             100000 non-null  object \n",
            " 24  merchantZip               100000 non-null  object \n",
            " 25  posOnPremises             100000 non-null  object \n",
            " 26  recurringAuthInd          100000 non-null  object \n",
            " 27  expirationDateKeyInMatch  100000 non-null  bool   \n",
            " 28  isFraud                   100000 non-null  bool   \n",
            "dtypes: bool(3), float64(4), object(22)\n",
            "memory usage: 20.1+ MB\n",
            "None\n"
          ]
        }
      ]
    }
  ],
  "metadata": {
    "kernelspec": {
      "display_name": "Python 3 (ipykernel)",
      "language": "python",
      "name": "python3"
    },
    "language_info": {
      "codemirror_mode": {
        "name": "ipython",
        "version": 3
      },
      "file_extension": ".py",
      "mimetype": "text/x-python",
      "name": "python",
      "nbconvert_exporter": "python",
      "pygments_lexer": "ipython3",
      "version": "3.10.5"
    },
    "colab": {
      "provenance": []
    }
  },
  "nbformat": 4,
  "nbformat_minor": 5
}